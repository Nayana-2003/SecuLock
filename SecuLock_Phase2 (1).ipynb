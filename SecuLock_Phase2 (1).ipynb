{
 "cells": [
  {
   "cell_type": "markdown",
   "id": "e360b286",
   "metadata": {},
   "source": [
    "# SECULOCK: SMART LOCKER SYSTEM"
   ]
  },
  {
   "cell_type": "markdown",
   "id": "f9c1d09f",
   "metadata": {},
   "source": [
    "This project implements a smart locker security system using Raspberry Pi, Face Recognition, OTP Verification, and Intrusion Detection Mechanisms. The system ensures secure access control by verifying the user's identity through facial recognition using the DeepFace library and the FaceNet model. If face recognition fails, an OTP (One-Time Password) is sent to the owner's registered email for secondary authentication.\n",
    "\n",
    "Additionally, the system incorporates vibration sensors to detect unauthorized access attempts. If a security breach is detected, an alert email with an intruder's photo is sent to the owner, and a buzzer is activated to deter the intruder."
   ]
  },
  {
   "cell_type": "markdown",
   "id": "65a6e909",
   "metadata": {},
   "source": [
    "## Key Features\n",
    "\n",
    "✅ Face Recognition using DeepFace (FaceNet)\n",
    "\n",
    "✅ OTP-based Authentication in case of face mismatch\n",
    "\n",
    "✅ Intrusion Detection with vibration sensors\n",
    "\n",
    "✅ Email Alert with intruder photo for unauthorized access\n",
    "\n",
    "✅ LCD Display for real-time system status updates"
   ]
  },
  {
   "cell_type": "markdown",
   "id": "781093ea",
   "metadata": {},
   "source": [
    "This Jupyter Notebook contains the Python implementation of the SecuLock system, interfacing various hardware components like Raspberry Pi, USB Camera, 16x2 I2C LCD, 4x4 Matrix Keypad, Vibration Sensors, and Relays for real-time security monitoring."
   ]
  },
  {
   "cell_type": "markdown",
   "id": "9ac98957",
   "metadata": {},
   "source": [
    "## Detailed Explanation of Code"
   ]
  },
  {
   "cell_type": "markdown",
   "id": "0bea58c8",
   "metadata": {},
   "source": [
    "### Importing Libraries\n",
    "This section imports the necessary libraries for face recognition, email handling, GPIO control, and LCD interaction."
   ]
  },
  {
   "cell_type": "code",
   "execution_count": null,
   "id": "f7eeebbd",
   "metadata": {},
   "outputs": [],
   "source": [
    "import json\n",
    "import cv2\n",
    "import numpy as np\n",
    "import time\n",
    "import smtplib\n",
    "import random\n",
    "import lgpio as GPIO\n",
    "import smbus2 as smbus\n",
    "from deepface import DeepFace\n",
    "from email.mime.text import MIMEText\n",
    "from email.mime.multipart import MIMEMultipart\n",
    "from email.mime.base import MIMEBase\n",
    "from email import encoders\n",
    "import atexit"
   ]
  },
  {
   "cell_type": "markdown",
   "id": "a1433966",
   "metadata": {},
   "source": [
    "### Email Configuration\n",
    "Defines the SMTP server details, sender credentials, recipient email, and email subject."
   ]
  },
  {
   "cell_type": "code",
   "execution_count": null,
   "id": "d2b1db05",
   "metadata": {},
   "outputs": [],
   "source": [
    "smtp_port = 587  # SMTP port for email sending\n",
    "smtp_server = \"smtp.gmail.com\"  # SMTP server address\n",
    "email_from = \"lockersender@gmail.com\"  # Sender email address\n",
    "email_to = \"alanjoseph111aaa@gmail.com\"  # Receiver email address\n",
    "pswd = \"jreesysnmnvqbfsr\"  # Email password (should be securely stored)\n",
    "SOURCE_IMAGES = [\"Alan.jpeg\", \"Karthika.jpeg\", \"Nayana.jpeg\", \"Nebu.jpeg\"]  # List of authorized faces\n",
    "subject = \"Theft detected !!\"  # Subject of the alert email"
   ]
  },
  {
   "cell_type": "markdown",
   "id": "789ba13c",
   "metadata": {},
   "source": [
    "### LCD Display Setup\n",
    "Initializes the LCD display using I2C communication for displaying system status."
   ]
  },
  {
   "cell_type": "code",
   "execution_count": null,
   "id": "c793b590",
   "metadata": {},
   "outputs": [],
   "source": [
    "# LCD Setup\n",
    "I2C_ADDR = 0x27  # I2C address of the LCD module\n",
    "bus = smbus.SMBus(1)  # Initialize the I2C bus\n",
    "\n",
    "# LCD Control Constants\n",
    "LCD_CHR = 1  # Mode for sending data\n",
    "LCD_CMD = 0  # Mode for sending commands\n",
    "\n",
    "# LCD Line Addresses\n",
    "LINE_1 = 0x80  # Address for the first line of the LCD\n",
    "LINE_2 = 0xC0  # Address for the second line of the LCD\n",
    "\n",
    "# Enable and Backlight Control\n",
    "ENABLE = 0b00000100  # Enable bit for LCD operation\n",
    "BACKLIGHT = 0b00001000  # Backlight control bit"
   ]
  },
  {
   "cell_type": "markdown",
   "id": "d0ca8e76",
   "metadata": {},
   "source": [
    "### LCD Display Functions\n",
    "Defines functions for writing commands and text to the LCD display."
   ]
  },
  {
   "cell_type": "code",
   "execution_count": null,
   "id": "65f8dfea",
   "metadata": {},
   "outputs": [],
   "source": [
    "def lcd_write(bits, mode):\n",
    "    \"\"\"Send command or data to the LCD\"\"\"\n",
    "    high_bits = mode | (bits & 0xF0) | BACKLIGHT  # Extract the high nibble\n",
    "    low_bits = mode | ((bits << 4) & 0xF0) | BACKLIGHT  # Extract the low nibble\n",
    "\n",
    "    # Send high bits\n",
    "    bus.write_byte(I2C_ADDR, high_bits)\n",
    "    lcd_toggle_enable(high_bits)\n",
    "\n",
    "    # Send low bits\n",
    "    bus.write_byte(I2C_ADDR, low_bits)\n",
    "    lcd_toggle_enable(low_bits)\n",
    "\n",
    "def lcd_toggle_enable(bits):\n",
    "    \"\"\"Toggle the enable pin to latch data\"\"\"\n",
    "    time.sleep(0.0005)  # Small delay\n",
    "    bus.write_byte(I2C_ADDR, bits | ENABLE)  # Enable high\n",
    "    time.sleep(0.0005)  # Small delay\n",
    "    bus.write_byte(I2C_ADDR, bits & ~ENABLE)  # Enable low\n",
    "    time.sleep(0.0005)  # Small delay\n",
    "\n",
    "def lcd_init():\n",
    "    \"\"\"Initialize the LCD with the required commands\"\"\"\n",
    "    lcd_write(0x33, LCD_CMD)  # Initialize LCD in 4-bit mode\n",
    "    lcd_write(0x32, LCD_CMD)  # Set to 4-bit mode again (required)\n",
    "    lcd_write(0x06, LCD_CMD)  # Set cursor move direction\n",
    "    lcd_write(0x0C, LCD_CMD)  # Turn on display, hide cursor\n",
    "    lcd_write(0x28, LCD_CMD)  # Set interface length (2-line, 5x7 dots)\n",
    "    lcd_write(0x01, LCD_CMD)  # Clear display\n",
    "    time.sleep(0.0005)  # Small delay after initialization\n",
    "\n",
    "def lcd_display(text, line):\n",
    "    \"\"\"Display a given text on a specified LCD line\"\"\"\n",
    "    lcd_write(line, LCD_CMD)  # Set cursor position to the specified line\n",
    "    for char in text.ljust(16):  # Ensure text is exactly 16 characters\n",
    "        lcd_write(ord(char), LCD_CHR)  # Write each character to the display\n",
    "\n",
    "# Initialize the LCD at startup\n",
    "lcd_init()"
   ]
  },
  {
   "cell_type": "markdown",
   "id": "a0417ade",
   "metadata": {},
   "source": [
    "### Email Sending Functions\n",
    "Functions to send alert emails with attachement and to send OTP."
   ]
  },
  {
   "cell_type": "code",
   "execution_count": null,
   "id": "e0706bca",
   "metadata": {},
   "outputs": [],
   "source": [
    "def send_emails(email_to):\n",
    "    \"\"\"Send an email alert with the captured face image when unauthorized access is detected.\"\"\"\n",
    "    try:\n",
    "        body = \"Unauthorized access attempt detected.\"  # Email body message\n",
    "        msg = MIMEMultipart()  # Create a multipart email message\n",
    "        msg['From'], msg['To'], msg['Subject'] = email_from, email_to, subject  # Set email headers\n",
    "        msg.attach(MIMEText(body, 'plain'))  # Attach email body text\n",
    "\n",
    "        # Attach the captured image\n",
    "        filename = \"captured_face.jpg\"  # Name of the file to be attached\n",
    "        with open(filename, 'rb') as attachment:  # Open image file in binary mode\n",
    "            attachment_package = MIMEBase('application', 'octet-stream')  # Create a binary file package\n",
    "            attachment_package.set_payload(attachment.read())  # Load image data into the package\n",
    "            encoders.encode_base64(attachment_package)  # Encode the attachment\n",
    "            attachment_package.add_header('Content-Disposition', f\"attachment; filename= {filename}\")  # Set file name\n",
    "            msg.attach(attachment_package)  # Attach the image to the email\n",
    "\n",
    "        # Establish connection with SMTP server and send email\n",
    "        with smtplib.SMTP(smtp_server, smtp_port) as server:\n",
    "            server.starttls()  # Secure the connection\n",
    "            server.login(email_from, pswd)  # Log in to the email account\n",
    "            server.sendmail(email_from, email_to, msg.as_string())  # Send email\n",
    "            print(f\"Email sent to: {email_to}\")  # Print confirmation\n",
    "\n",
    "    except Exception as e:\n",
    "        print(\"Email sending error:\", e)  # Print error if email sending fails\n",
    "\n",
    "\n",
    "# Email for OTP\n",
    "def otp_sent(subject, body):\n",
    "    \"\"\"Send an OTP email for verification.\"\"\"\n",
    "    try:\n",
    "        msg = MIMEText(body)  # Create a plain text email\n",
    "        msg['From'], msg['To'], msg['Subject'] = email_from, email_to, subject  # Set email headers\n",
    "\n",
    "        # Establish connection with SMTP server and send email\n",
    "        with smtplib.SMTP(smtp_server, smtp_port) as server:\n",
    "            server.starttls()  # Secure the connection\n",
    "            server.login(email_from, pswd)  # Log in to the email account\n",
    "            server.send_message(msg)  # Send OTP email\n",
    "\n",
    "    except Exception as e:\n",
    "        print(\"Email error:\", e)  # Print error if email sending fails\n",
    "    "
   ]
  },
  {
   "cell_type": "markdown",
   "id": "4c3aa624",
   "metadata": {},
   "source": [
    "### OTP Generation\n",
    "Generates and sends a one-time password (OTP) for verification."
   ]
  },
  {
   "cell_type": "code",
   "execution_count": null,
   "id": "4e2028dd",
   "metadata": {},
   "outputs": [],
   "source": [
    "def send_otp():\n",
    "    \"\"\"Generate a 6-digit OTP and send it via email.\"\"\"\n",
    "    otp = str(random.randint(100000, 999999))  # Generate a random 6-digit OTP\n",
    "    otp_sent(\"Your OTP for Verification\", f\"Your OTP is: {otp}\")  # Send the OTP via email\n",
    "    return otp  # Return the generated OTP for verification"
   ]
  },
  {
   "cell_type": "markdown",
   "id": "136555d9",
   "metadata": {},
   "source": [
    "### Face Detection and Recognition\n",
    "Captures and compares a face using DeepFace's FaceNet model."
   ]
  },
  {
   "cell_type": "code",
   "execution_count": null,
   "id": "a1acc29d",
   "metadata": {},
   "outputs": [],
   "source": [
    "# Face Capture and Comparison\n",
    "def capture_face(frame):\n",
    "    \"\"\"Capture a face from the given video frame and save it as an image.\"\"\"\n",
    "    face_cascade = cv2.CascadeClassifier(cv2.data.haarcascades + \"haarcascade_frontalface_default.xml\")  \n",
    "    # Load the pre-trained Haar cascade classifier for face detection\n",
    "\n",
    "    gray = cv2.cvtColor(frame, cv2.COLOR_BGR2GRAY)  # Convert the frame to grayscale\n",
    "    faces = face_cascade.detectMultiScale(gray, scaleFactor=1.1, minNeighbors=5, minSize=(30, 30))  \n",
    "    # Detect faces in the grayscale frame\n",
    "\n",
    "    if len(faces) > 0:  # If at least one face is detected\n",
    "        x, y, w, h = faces[0]  # Get coordinates of the first detected face\n",
    "        face_roi = frame[y:y + h, x:x + w]  # Extract the face region from the original frame\n",
    "        path = \"captured_face.jpg\"  # Define file path for the captured face\n",
    "        cv2.imwrite(path, face_roi)  # Save the captured face as an image file\n",
    "        return path  # Return the saved image path\n",
    "\n",
    "    return None  # Return None if no face is detected\n",
    "\n",
    "# Face Recognition Function\n",
    "def compare_faces(source, captured):\n",
    "    \"\"\"Compare two face images using the DeepFace FaceNet model.\"\"\"\n",
    "    try:\n",
    "        # Perform face verification using DeepFace\n",
    "        result = DeepFace.verify(img1_path=source, img2_path=captured, model_name=\"FaceNet\", enforce_detection=False)\n",
    "        return result.get('verified', False)  # Return True if the faces match, otherwise False\n",
    "    except Exception as e:\n",
    "        print(\"Face comparison error:\", e)  # Handle errors in face verification\n",
    "        return False  # Return False if an error occurs"
   ]
  },
  {
   "cell_type": "markdown",
   "id": "5d882319",
   "metadata": {},
   "source": [
    "### GPIO Setup\n",
    "Initializes GPIO pins for relays, buzzer, and vibration sensors."
   ]
  },
  {
   "cell_type": "code",
   "execution_count": null,
   "id": "5eb08cad",
   "metadata": {},
   "outputs": [],
   "source": [
    "chip = GPIO.gpiochip_open(0)\n",
    "\n",
    "def cleanup():\n",
    "    \"\"\"Release GPIO resources on exit\"\"\"\n",
    "    print(\"Releasing GPIO resources...\")\n",
    "    GPIO.gpiochip_close(chip)\n",
    "\n",
    "atexit.register(cleanup)"
   ]
  },
  {
   "cell_type": "markdown",
   "id": "81ab3e4d",
   "metadata": {},
   "source": [
    "### GPIO Setup\n",
    "Initializes the GPIO chip for controlling Raspberry Pi pins and ensures cleanup on exit."
   ]
  },
  {
   "cell_type": "code",
   "execution_count": null,
   "id": "f71a4183",
   "metadata": {},
   "outputs": [],
   "source": [
    "chip = GPIO.gpiochip_open(0)  # Open GPIO chip 0 for controlling Raspberry Pi GPIO pins\n",
    "\n",
    "def cleanup():\n",
    "    \"\"\"Release GPIO resources upon program exit.\"\"\"\n",
    "    print(\"Releasing GPIO resources...\")\n",
    "    GPIO.gpiochip_close(chip)  # Close the GPIO chip to free resources\n",
    "\n",
    "atexit.register(cleanup)  # Ensure cleanup() is called automatically on program exit"
   ]
  },
  {
   "cell_type": "markdown",
   "id": "96bec353",
   "metadata": {},
   "source": [
    "### Keypad Initialization\n",
    "Defines the GPIO pins for a 4x4 keypad and configures them for input and output."
   ]
  },
  {
   "cell_type": "code",
   "execution_count": null,
   "id": "f5c7b4b0",
   "metadata": {},
   "outputs": [],
   "source": [
    "ROWS = [17, 27, 22, 10]  # GPIO pins connected to the keypad rows\n",
    "COLS = [9, 11, 5, 6]  # GPIO pins connected to the keypad columns\n",
    "\n",
    "KEYPAD = [\n",
    "    ['1', '2', '3', 'A'],\n",
    "    ['4', '5', '6', 'B'],\n",
    "    ['7', '8', '9', 'C'],\n",
    "    ['*', '0', '#', 'D']\n",
    "]\n",
    "\n",
    "# Configure keypad row pins as OUTPUT (initially HIGH)\n",
    "for row in ROWS:\n",
    "    GPIO.gpio_claim_output(chip, row, 1)\n",
    "\n",
    "# Configure keypad column pins as INPUT with pull-up resistors\n",
    "for col in COLS:\n",
    "    GPIO.gpio_claim_input(chip, col, GPIO.SET_PULL_UP)"
   ]
  },
  {
   "cell_type": "markdown",
   "id": "7e39d1c8",
   "metadata": {},
   "source": [
    "### Keypad Read Function\n",
    "Scans the keypad and returns the key pressed by the user."
   ]
  },
  {
   "cell_type": "code",
   "execution_count": null,
   "id": "14528949",
   "metadata": {},
   "outputs": [],
   "source": [
    "def read_keypad():\n",
    "    \"\"\"Read a key press from the keypad and return the corresponding character.\"\"\"\n",
    "    for row_index, row_pin in enumerate(ROWS):\n",
    "        GPIO.gpio_write(chip, row_pin, 0)  # Set row LOW to detect key press\n",
    "        for col_index, col_pin in enumerate(COLS):\n",
    "            if GPIO.gpio_read(chip, col_pin) == 0:  # If column goes LOW (key press detected)\n",
    "                time.sleep(0.2)  # Debounce delay\n",
    "                GPIO.gpio_write(chip, row_pin, 1)  # Reset row back to HIGH\n",
    "                return KEYPAD[row_index][col_index]  # Return pressed key\n",
    "        GPIO.gpio_write(chip, row_pin, 1)  # Reset row before next scan\n",
    "    return None  # Return None if no key is pressed"
   ]
  },
  {
   "cell_type": "markdown",
   "id": "b0dcac77",
   "metadata": {},
   "source": [
    "### GPIO Pin Initialization\n",
    "Defines and configures the GPIO pins for the lock, buzzer, and vibration sensors."
   ]
  },
  {
   "cell_type": "code",
   "execution_count": null,
   "id": "b86c4f0e",
   "metadata": {},
   "outputs": [],
   "source": [
    "RELAY_LOCK_PIN, RELAY_BUZZER_PIN = 26, 19  # GPIO pins for electronic lock and buzzer\n",
    "VIBRATION_SENSOR_1 = 23  # GPIO pin for Vibration Sensor 1\n",
    "VIBRATION_SENSOR_2 = 24  # GPIO pin for Vibration Sensor 2\n",
    "\n",
    "# Configure vibration sensor pins as INPUT with pull-up resistors\n",
    "GPIO.gpio_claim_input(chip, VIBRATION_SENSOR_1, GPIO.SET_PULL_UP)\n",
    "GPIO.gpio_claim_input(chip, VIBRATION_SENSOR_2, GPIO.SET_PULL_UP)\n",
    "\n",
    "# Configure relay pins as OUTPUT and set them HIGH initially (inactive state)\n",
    "GPIO.gpio_claim_output(chip, RELAY_LOCK_PIN, 1)\n",
    "GPIO.gpio_claim_output(chip, RELAY_BUZZER_PIN, 1)"
   ]
  },
  {
   "cell_type": "markdown",
   "id": "c17cc6d4",
   "metadata": {},
   "source": [
    "### Buzzer Function\n",
    "Activates the buzzer for a specified duration (default: 5 seconds)."
   ]
  },
  {
   "cell_type": "code",
   "execution_count": null,
   "id": "24882410",
   "metadata": {},
   "outputs": [],
   "source": [
    "def trigger_buzzer(duration=5):\n",
    "    \"\"\"Activate the buzzer for a specified duration (default: 5 seconds).\"\"\"\n",
    "    GPIO.gpio_write(chip, RELAY_BUZZER_PIN, 0)  # Turn ON the buzzer (LOW active)\n",
    "    time.sleep(duration)  # Wait for the specified duration\n",
    "    GPIO.gpio_write(chip, RELAY_BUZZER_PIN, 1)  # Turn OFF the buzzer (HIGH inactive)"
   ]
  },
  {
   "cell_type": "markdown",
   "id": "f50211fe",
   "metadata": {},
   "source": [
    "### Main Loop\n",
    "Continuously monitors vibration sensors and handles access authentication via face recognition or OTP."
   ]
  },
  {
   "cell_type": "code",
   "execution_count": null,
   "id": "d726909c",
   "metadata": {},
   "outputs": [],
   "source": [
    "while True:\n",
    "    # Read the vibration sensor states\n",
    "    sensor_1_state = GPIO.gpio_read(chip, VIBRATION_SENSOR_1)\n",
    "    sensor_2_state = GPIO.gpio_read(chip, VIBRATION_SENSOR_2)\n",
    "\n",
    "    # If any vibration sensor detects movement, trigger security alert\n",
    "    if sensor_1_state == 0 or sensor_2_state == 0:\n",
    "        trigger_buzzer()  # Activate the buzzer\n",
    "        otp_sent(\"Theft Detected\", \"Vibration sensors activated\")  # Send alert email\n",
    "        time.sleep(0.1)  # Short delay before continuing\n",
    "    \n",
    "    # Display initial message on LCD prompting user to start\n",
    "    lcd_display(\"Press A \", LINE_1)\n",
    "    lcd_display(\"to start\", LINE_2)\n",
    "    \n",
    "    # Read keypad input\n",
    "    i = read_keypad()"
   ]
  },
  {
   "cell_type": "markdown",
   "id": "5d674170",
   "metadata": {},
   "source": [
    "### Face Matching\n",
    "Compares captured face with stored images and grants access if matched."
   ]
  },
  {
   "cell_type": "code",
   "execution_count": null,
   "id": "7a575cfd",
   "metadata": {},
   "outputs": [],
   "source": [
    "            # Compare captured face with stored faces\n",
    "            if captured_path and any(compare_faces(img, captured_path) for img in SOURCE_IMAGES):\n",
    "                lcd_display(\"Access Granted\", LINE_1)\n",
    "                GPIO.gpio_write(chip, RELAY_LOCK_PIN, 0)  # Unlock the locker\n",
    "                time.sleep(1)\n",
    "\n",
    "                # Prompt user to close locker\n",
    "                while True:\n",
    "                    lcd_display(\"Press B\", LINE_1)\n",
    "                    lcd_display(\"to lock\", LINE_2)\n",
    "                    close = read_keypad()\n",
    "                    if close == \"B\":  # Close the locker when 'B' is pressed\n",
    "                        lcd_display(\"Closed\", LINE_1)\n",
    "                        GPIO.gpio_write(chip, RELAY_LOCK_PIN, 1)  # Lock the locker\n",
    "                        break  # Exit locker close loop\n",
    "                break  # Exit face recognition loop"
   ]
  },
  {
   "cell_type": "markdown",
   "id": "acf1aa8a",
   "metadata": {},
   "source": [
    "### OTP Verification\n",
    "If face recognition fails, prompts the user to enter an OTP for access."
   ]
  },
  {
   "cell_type": "code",
   "execution_count": null,
   "id": "444973b1",
   "metadata": {},
   "outputs": [],
   "source": [
    "            else:  # If face is not recognized, proceed with OTP verification\n",
    "                lcd_display(\"Face not matched\", LINE_1)\n",
    "                sent_otp = send_otp()  # Generate and send OTP\n",
    "                lcd_display(\"OTP Sent\", LINE_1)\n",
    "                print(\"OTP sent\")\n",
    "                time.sleep(1)\n",
    "                lcd_display(\"Enter OTP:\", LINE_1)\n",
    "\n",
    "                input_sequence = \"\"  # Variable to store entered OTP\n",
    "                otp_verified = False  # Flag to track OTP verification status"
   ]
  },
  {
   "cell_type": "markdown",
   "id": "51a7bd94",
   "metadata": {},
   "source": [
    "### OTP Input Handling\n",
    "Reads user input and grants or denies access based on OTP correctness."
   ]
  },
  {
   "cell_type": "code",
   "execution_count": null,
   "id": "602e9ed6",
   "metadata": {},
   "outputs": [],
   "source": [
    "                # OTP input loop\n",
    "                while True:\n",
    "                    key = read_keypad()  # Read key press\n",
    "                    if key:\n",
    "                        if key == \"#\":  # If '#' is pressed, verify OTP\n",
    "                            if input_sequence == sent_otp:\n",
    "                                lcd_display(\"Access Granted\", LINE_1)\n",
    "                                time.sleep(1)\n",
    "                                lcd_display(\"\", LINE_1)\n",
    "                                lcd_display(\"\", LINE_2)\n",
    "                                GPIO.gpio_write(chip, RELAY_LOCK_PIN, 0)  # Unlock locker\n",
    "                                otp_verified = True  # Mark OTP as verified\n",
    "                            else:\n",
    "                                lcd_display(\"Access Denied\", LINE_1)\n",
    "                                trigger_buzzer()  # Alert unauthorized access\n",
    "                                send_emails(email_to)  # Send intruder alert email\n",
    "                            break  # Exit OTP input loop\n",
    "                        \n",
    "                        elif key == \"*\":  # If '*' is pressed, clear OTP input\n",
    "                            input_sequence = \"\"\n",
    "                        else:  # Otherwise, append digit to OTP input\n",
    "                            input_sequence += key\n",
    "                            lcd_display(input_sequence, LINE_2)  # Display entered OTP\n",
    "                            print(key)"
   ]
  },
  {
   "cell_type": "markdown",
   "id": "8c95c2ae",
   "metadata": {},
   "source": [
    "### Locker Closing\n",
    "Ensures the locker is securely closed after successful authentication."
   ]
  },
  {
   "cell_type": "code",
   "execution_count": null,
   "id": "fdff4d46",
   "metadata": {},
   "outputs": [],
   "source": [
    "                if otp_verified:  # If OTP was correct, allow locker closure\n",
    "                    while True:\n",
    "                        lcd_display(\"Press B\", LINE_1)\n",
    "                        lcd_display(\"to lock\", LINE_2)\n",
    "                        close2 = read_keypad()\n",
    "                        if close2 == \"B\":  # Close locker when 'B' is pressed\n",
    "                            lcd_display(\"Closed\", LINE_1)\n",
    "                            GPIO.gpio_write(chip, RELAY_LOCK_PIN, 1)  # Lock locker\n",
    "                            break  # Exit locker close loop\n",
    "                break  # Exit face recognition loop\n",
    "\n",
    "        cap.release()  # Release webcam\n",
    "        cv2.destroyAllWindows()  # Close OpenCV windows"
   ]
  }
 ],
 "metadata": {
  "kernelspec": {
   "display_name": "Python 3 (ipykernel)",
   "language": "python",
   "name": "python3"
  },
  "language_info": {
   "codemirror_mode": {
    "name": "ipython",
    "version": 3
   },
   "file_extension": ".py",
   "mimetype": "text/x-python",
   "name": "python",
   "nbconvert_exporter": "python",
   "pygments_lexer": "ipython3",
   "version": "3.10.7"
  }
 },
 "nbformat": 4,
 "nbformat_minor": 5
}
